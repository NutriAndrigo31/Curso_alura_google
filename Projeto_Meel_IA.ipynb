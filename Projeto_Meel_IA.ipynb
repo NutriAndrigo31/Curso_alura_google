{
  "cells": [
    {
      "cell_type": "markdown",
      "metadata": {
        "id": "view-in-github",
        "colab_type": "text"
      },
      "source": [
        "<a href=\"https://colab.research.google.com/github/NutriAndrigo31/Curso_alura_google/blob/main/Projeto_Meel_IA.ipynb\" target=\"_parent\"><img src=\"https://colab.research.google.com/assets/colab-badge.svg\" alt=\"Open In Colab\"/></a>"
      ]
    },
    {
      "cell_type": "code",
      "execution_count": 2,
      "metadata": {
        "id": "lATtPkhUap-9"
      },
      "outputs": [],
      "source": [
        "pip install -q -U google-generativeai"
      ]
    },
    {
      "cell_type": "code",
      "execution_count": 3,
      "metadata": {
        "id": "eX4YwLPEbrut"
      },
      "outputs": [],
      "source": [
        "import pathlib\n",
        "import textwrap\n",
        "\n",
        "import google.generativeai as genai\n",
        "\n",
        "from IPython.display import display\n",
        "from IPython.display import Markdown\n",
        "\n",
        "\n",
        "def to_markdown(text):\n",
        "  text = text.replace('•', '  *')\n",
        "  return Markdown(textwrap.indent(text, '> ', predicate=lambda _: True))"
      ]
    },
    {
      "cell_type": "code",
      "execution_count": 4,
      "metadata": {
        "id": "k53uMteib13c"
      },
      "outputs": [],
      "source": [
        "#USADO PARA ARMAZENAR A CHAVE KEY COM SEGURANÇA\n",
        "from google.colab import userdata"
      ]
    },
    {
      "cell_type": "code",
      "execution_count": 5,
      "metadata": {
        "id": "UAQHRP4XcPh-"
      },
      "outputs": [],
      "source": [
        "#Você pode usar `os.getenv('GOOGLE_API_KEY')` para buscar uma variável de ambiente.\n",
        "GOOGLE_API_KEY=userdata.get('GOOGLE_API_KEY')\n",
        "genai.configure(api_key=GOOGLE_API_KEY)"
      ]
    },
    {
      "cell_type": "code",
      "execution_count": 6,
      "metadata": {
        "colab": {
          "base_uri": "https://localhost:8080/",
          "height": 139
        },
        "id": "wTZGguafd9tv",
        "outputId": "a53d321d-f16a-4ba9-b183-24da1af99367"
      },
      "outputs": [
        {
          "output_type": "stream",
          "name": "stdout",
          "text": [
            "models/gemini-1.0-pro\n",
            "models/gemini-1.0-pro-001\n",
            "models/gemini-1.0-pro-latest\n",
            "models/gemini-1.0-pro-vision-latest\n",
            "models/gemini-1.5-pro-latest\n",
            "models/gemini-pro\n",
            "models/gemini-pro-vision\n"
          ]
        }
      ],
      "source": [
        "#LISTAR OS MODELOS\n",
        "for m in genai.list_models():\n",
        "  if 'generateContent' in m.supported_generation_methods:\n",
        "    print(m.name)"
      ]
    },
    {
      "cell_type": "code",
      "execution_count": 7,
      "metadata": {
        "id": "7ulc0NvyrODb"
      },
      "outputs": [],
      "source": [
        "#configuração de resposta do Gemini\n",
        "generation_config= {\n",
        "    \"candidate_count\":1,\n",
        "    \"temperature\":0.5\n",
        "}"
      ]
    },
    {
      "cell_type": "code",
      "execution_count": 8,
      "metadata": {
        "id": "MqaOInkprVNc"
      },
      "outputs": [],
      "source": [
        "safety_settings= {\n",
        "    \"HARASSMENT\":\"block_none\",\n",
        "    \"HATE\": \"block_none\",\n",
        "    \"SEXUAL\": \"block_none\",\n",
        "    \"DANGEROUS\" : \"block_none\"\n",
        "}"
      ]
    },
    {
      "cell_type": "code",
      "execution_count": 9,
      "metadata": {
        "id": "iBUcWxivKuIF"
      },
      "outputs": [],
      "source": [
        "model = genai.GenerativeModel(model_name = \"gemini-1.0-pro\",\n",
        "                              generation_config=generation_config,\n",
        "                              safety_settings=safety_settings\n",
        "                              )"
      ]
    },
    {
      "cell_type": "code",
      "source": [
        "chat = model.start_chat(history=[])"
      ],
      "metadata": {
        "id": "nBYzQdnRt6Wb"
      },
      "execution_count": 39,
      "outputs": []
    },
    {
      "cell_type": "code",
      "execution_count": 42,
      "metadata": {
        "colab": {
          "base_uri": "https://localhost:8080/",
          "height": 933
        },
        "id": "39IQw0DsYMy4",
        "outputId": "8d58cb65-4907-47a3-b4a8-ffb76e83a4e7"
      },
      "outputs": [
        {
          "output_type": "stream",
          "name": "stdout",
          "text": [
            "esperando prompt:me fale quais os principais macronutrientes e micronutrientes\n",
            "resposta: **Macronutrientes**\n",
            "\n",
            "* **Carboidratos:** Fornecem energia ao corpo.\n",
            "* **Proteínas:** Construem e reparam tecidos.\n",
            "* **Gorduras:** Fornecem energia e ajudam na absorção de vitaminas.\n",
            "\n",
            "**Micronutrientes**\n",
            "\n",
            "* **Vitaminas:** Essenciais para vários processos corporais, como crescimento, visão e função imunológica.\n",
            "* **Minerais:** Necessários para funções corporais como equilíbrio de fluidos, contração muscular e saúde óssea.\n",
            "\n",
            "**Vitaminas**\n",
            "\n",
            "* Vitamina A\n",
            "* Vitaminas do complexo B (B1, B2, B3, B5, B6, B7, B9, B12)\n",
            "* Vitamina C\n",
            "* Vitamina D\n",
            "* Vitamina E\n",
            "* Vitamina K\n",
            "\n",
            "**Minerais**\n",
            "\n",
            "* Cálcio\n",
            "* Ferro\n",
            "* Magnésio\n",
            "* Fósforo\n",
            "* Potássio\n",
            "* Sódio\n",
            "* Zinco\n",
            "* Selênio\n",
            "* Iodo \n",
            "\n"
          ]
        },
        {
          "output_type": "error",
          "ename": "KeyboardInterrupt",
          "evalue": "Interrupted by user",
          "traceback": [
            "\u001b[0;31m---------------------------------------------------------------------------\u001b[0m",
            "\u001b[0;31mKeyboardInterrupt\u001b[0m                         Traceback (most recent call last)",
            "\u001b[0;32m<ipython-input-42-644bcfde58aa>\u001b[0m in \u001b[0;36m<cell line: 2>\u001b[0;34m()\u001b[0m\n\u001b[1;32m      3\u001b[0m   \u001b[0mresponse\u001b[0m \u001b[0;34m=\u001b[0m \u001b[0mchat\u001b[0m\u001b[0;34m.\u001b[0m\u001b[0msend_message\u001b[0m\u001b[0;34m(\u001b[0m\u001b[0mprompt\u001b[0m\u001b[0;34m)\u001b[0m\u001b[0;34m\u001b[0m\u001b[0;34m\u001b[0m\u001b[0m\n\u001b[1;32m      4\u001b[0m   \u001b[0mprint\u001b[0m \u001b[0;34m(\u001b[0m\u001b[0;34m\"resposta:\"\u001b[0m\u001b[0;34m,\u001b[0m \u001b[0mresponse\u001b[0m\u001b[0;34m.\u001b[0m\u001b[0mtext\u001b[0m\u001b[0;34m,\u001b[0m \u001b[0;34m\"\\n\"\u001b[0m\u001b[0;34m)\u001b[0m\u001b[0;34m\u001b[0m\u001b[0;34m\u001b[0m\u001b[0m\n\u001b[0;32m----> 5\u001b[0;31m   \u001b[0mprompt\u001b[0m \u001b[0;34m=\u001b[0m \u001b[0minput\u001b[0m\u001b[0;34m(\u001b[0m\u001b[0;34m\"esperando prompt:\"\u001b[0m\u001b[0;34m)\u001b[0m\u001b[0;34m\u001b[0m\u001b[0;34m\u001b[0m\u001b[0m\n\u001b[0m",
            "\u001b[0;32m/usr/local/lib/python3.10/dist-packages/ipykernel/kernelbase.py\u001b[0m in \u001b[0;36mraw_input\u001b[0;34m(self, prompt)\u001b[0m\n\u001b[1;32m    849\u001b[0m                 \u001b[0;34m\"raw_input was called, but this frontend does not support input requests.\"\u001b[0m\u001b[0;34m\u001b[0m\u001b[0;34m\u001b[0m\u001b[0m\n\u001b[1;32m    850\u001b[0m             )\n\u001b[0;32m--> 851\u001b[0;31m         return self._input_request(str(prompt),\n\u001b[0m\u001b[1;32m    852\u001b[0m             \u001b[0mself\u001b[0m\u001b[0;34m.\u001b[0m\u001b[0m_parent_ident\u001b[0m\u001b[0;34m,\u001b[0m\u001b[0;34m\u001b[0m\u001b[0;34m\u001b[0m\u001b[0m\n\u001b[1;32m    853\u001b[0m             \u001b[0mself\u001b[0m\u001b[0;34m.\u001b[0m\u001b[0m_parent_header\u001b[0m\u001b[0;34m,\u001b[0m\u001b[0;34m\u001b[0m\u001b[0;34m\u001b[0m\u001b[0m\n",
            "\u001b[0;32m/usr/local/lib/python3.10/dist-packages/ipykernel/kernelbase.py\u001b[0m in \u001b[0;36m_input_request\u001b[0;34m(self, prompt, ident, parent, password)\u001b[0m\n\u001b[1;32m    893\u001b[0m             \u001b[0;32mexcept\u001b[0m \u001b[0mKeyboardInterrupt\u001b[0m\u001b[0;34m:\u001b[0m\u001b[0;34m\u001b[0m\u001b[0;34m\u001b[0m\u001b[0m\n\u001b[1;32m    894\u001b[0m                 \u001b[0;31m# re-raise KeyboardInterrupt, to truncate traceback\u001b[0m\u001b[0;34m\u001b[0m\u001b[0;34m\u001b[0m\u001b[0m\n\u001b[0;32m--> 895\u001b[0;31m                 \u001b[0;32mraise\u001b[0m \u001b[0mKeyboardInterrupt\u001b[0m\u001b[0;34m(\u001b[0m\u001b[0;34m\"Interrupted by user\"\u001b[0m\u001b[0;34m)\u001b[0m \u001b[0;32mfrom\u001b[0m \u001b[0;32mNone\u001b[0m\u001b[0;34m\u001b[0m\u001b[0;34m\u001b[0m\u001b[0m\n\u001b[0m\u001b[1;32m    896\u001b[0m             \u001b[0;32mexcept\u001b[0m \u001b[0mException\u001b[0m \u001b[0;32mas\u001b[0m \u001b[0me\u001b[0m\u001b[0;34m:\u001b[0m\u001b[0;34m\u001b[0m\u001b[0;34m\u001b[0m\u001b[0m\n\u001b[1;32m    897\u001b[0m                 \u001b[0mself\u001b[0m\u001b[0;34m.\u001b[0m\u001b[0mlog\u001b[0m\u001b[0;34m.\u001b[0m\u001b[0mwarning\u001b[0m\u001b[0;34m(\u001b[0m\u001b[0;34m\"Invalid Message:\"\u001b[0m\u001b[0;34m,\u001b[0m \u001b[0mexc_info\u001b[0m\u001b[0;34m=\u001b[0m\u001b[0;32mTrue\u001b[0m\u001b[0;34m)\u001b[0m\u001b[0;34m\u001b[0m\u001b[0;34m\u001b[0m\u001b[0m\n",
            "\u001b[0;31mKeyboardInterrupt\u001b[0m: Interrupted by user"
          ]
        }
      ],
      "source": [
        "prompt = input(\"esperando prompt:\")\n",
        "while prompt!= \"fim\":\n",
        "  response = chat.send_message(prompt)\n",
        "  print (\"resposta:\", response.text, \"\\n\")\n",
        "  prompt = input(\"esperando prompt:\")\n"
      ]
    },
    {
      "cell_type": "code",
      "source": [
        "chat.history"
      ],
      "metadata": {
        "colab": {
          "base_uri": "https://localhost:8080/"
        },
        "id": "iBbo2FjyxSMA",
        "outputId": "c3805172-9b49-4dcf-eb0e-479a625668d8"
      },
      "execution_count": 44,
      "outputs": [
        {
          "output_type": "execute_result",
          "data": {
            "text/plain": [
              "[parts {\n",
              "   text: \"me fale quais os principais macronutrientes e micronutrientes\"\n",
              " }\n",
              " role: \"user\",\n",
              " parts {\n",
              "   text: \"**Macronutrientes**\\n\\n* **Carboidratos:** Fornecem energia ao corpo.\\n* **Prote\\303\\255nas:** Construem e reparam tecidos.\\n* **Gorduras:** Fornecem energia e ajudam na absor\\303\\247\\303\\243o de vitaminas.\\n\\n**Micronutrientes**\\n\\n* **Vitaminas:** Essenciais para v\\303\\241rios processos corporais, como crescimento, vis\\303\\243o e fun\\303\\247\\303\\243o imunol\\303\\263gica.\\n* **Minerais:** Necess\\303\\241rios para fun\\303\\247\\303\\265es corporais como equil\\303\\255brio de fluidos, contra\\303\\247\\303\\243o muscular e sa\\303\\272de \\303\\263ssea.\\n\\n**Vitaminas**\\n\\n* Vitamina A\\n* Vitaminas do complexo B (B1, B2, B3, B5, B6, B7, B9, B12)\\n* Vitamina C\\n* Vitamina D\\n* Vitamina E\\n* Vitamina K\\n\\n**Minerais**\\n\\n* C\\303\\241lcio\\n* Ferro\\n* Magn\\303\\251sio\\n* F\\303\\263sforo\\n* Pot\\303\\241ssio\\n* S\\303\\263dio\\n* Zinco\\n* Sel\\303\\252nio\\n* Iodo\"\n",
              " }\n",
              " role: \"model\"]"
            ]
          },
          "metadata": {},
          "execution_count": 44
        }
      ]
    },
    {
      "cell_type": "code",
      "source": [
        "#Melhorando a visualização\n",
        "#Código disponível em https://ai.google.dev/tutorials/python_quickstart#import_packages\n",
        "import textwrap\n",
        "from IPython.display import display\n",
        "from IPython.display import Markdown\n",
        "\n",
        "def to_markdown(text):\n",
        "  text = text.replace('•', '  *')\n",
        "  return Markdown(textwrap.indent(text, '> ', predicate=lambda _: True))\n",
        "\n",
        "#Imprimindo o histórico\n",
        "for message in chat.history:\n",
        "  display(to_markdown(f'**{message.role}**: {message.parts[0].text}'))\n",
        "  print('-------------------------------------------')"
      ],
      "metadata": {
        "colab": {
          "base_uri": "https://localhost:8080/",
          "height": 584
        },
        "id": "cqi1Odn7xdW2",
        "outputId": "6c2822ef-a252-43e4-af3c-a52875504754"
      },
      "execution_count": 43,
      "outputs": [
        {
          "output_type": "display_data",
          "data": {
            "text/plain": [
              "<IPython.core.display.Markdown object>"
            ],
            "text/markdown": "> **user**: me fale quais os principais macronutrientes e micronutrientes"
          },
          "metadata": {}
        },
        {
          "output_type": "stream",
          "name": "stdout",
          "text": [
            "-------------------------------------------\n"
          ]
        },
        {
          "output_type": "display_data",
          "data": {
            "text/plain": [
              "<IPython.core.display.Markdown object>"
            ],
            "text/markdown": "> **model**: **Macronutrientes**\n> \n> * **Carboidratos:** Fornecem energia ao corpo.\n> * **Proteínas:** Construem e reparam tecidos.\n> * **Gorduras:** Fornecem energia e ajudam na absorção de vitaminas.\n> \n> **Micronutrientes**\n> \n> * **Vitaminas:** Essenciais para vários processos corporais, como crescimento, visão e função imunológica.\n> * **Minerais:** Necessários para funções corporais como equilíbrio de fluidos, contração muscular e saúde óssea.\n> \n> **Vitaminas**\n> \n> * Vitamina A\n> * Vitaminas do complexo B (B1, B2, B3, B5, B6, B7, B9, B12)\n> * Vitamina C\n> * Vitamina D\n> * Vitamina E\n> * Vitamina K\n> \n> **Minerais**\n> \n> * Cálcio\n> * Ferro\n> * Magnésio\n> * Fósforo\n> * Potássio\n> * Sódio\n> * Zinco\n> * Selênio\n> * Iodo"
          },
          "metadata": {}
        },
        {
          "output_type": "stream",
          "name": "stdout",
          "text": [
            "-------------------------------------------\n"
          ]
        }
      ]
    }
  ],
  "metadata": {
    "colab": {
      "provenance": [],
      "toc_visible": true,
      "authorship_tag": "ABX9TyOwPD9zVORvEppK2qj9TUuv",
      "include_colab_link": true
    },
    "kernelspec": {
      "display_name": "Python 3",
      "name": "python3"
    },
    "language_info": {
      "name": "python"
    }
  },
  "nbformat": 4,
  "nbformat_minor": 0
}