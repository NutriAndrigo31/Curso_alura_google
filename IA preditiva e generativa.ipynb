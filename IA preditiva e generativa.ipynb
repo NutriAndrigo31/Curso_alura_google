{
  "nbformat": 4,
  "nbformat_minor": 0,
  "metadata": {
    "colab": {
      "provenance": [],
      "authorship_tag": "ABX9TyNjXtLW/rhwdci3tsL1eEPF",
      "include_colab_link": true
    },
    "kernelspec": {
      "name": "python3",
      "display_name": "Python 3"
    },
    "language_info": {
      "name": "python"
    }
  },
  "cells": [
    {
      "cell_type": "markdown",
      "metadata": {
        "id": "view-in-github",
        "colab_type": "text"
      },
      "source": [
        "<a href=\"https://colab.research.google.com/github/NutriAndrigo31/Curso_alura_google/blob/main/IA%20preditiva%20e%20generativa.ipynb\" target=\"_parent\"><img src=\"https://colab.research.google.com/assets/colab-badge.svg\" alt=\"Open In Colab\"/></a>"
      ]
    },
    {
      "cell_type": "code",
      "source": [
        "pip install -q -U google-generativeai"
      ],
      "metadata": {
        "id": "uHs4HyhkJtJv"
      },
      "execution_count": 65,
      "outputs": []
    },
    {
      "cell_type": "code",
      "source": [
        "#importação inicial para as análise de dados\n",
        "import numpy as np\n",
        "import pandas as pd\n",
        "import google.generativeai as genai\n",
        "import google.ai.generativelanguage as glm"
      ],
      "metadata": {
        "id": "6yOGmSwIJzVy"
      },
      "execution_count": 93,
      "outputs": []
    },
    {
      "cell_type": "code",
      "source": [
        "#USADO PARA ARMAZENAR A CHAVE KEY COM SEGURANÇA\n",
        "from google.colab import userdata"
      ],
      "metadata": {
        "id": "48nwuiknKeBr"
      },
      "execution_count": 94,
      "outputs": []
    },
    {
      "cell_type": "code",
      "source": [
        "#Você pode usar `os.getenv('GOOGLE_API_KEY')` para buscar uma variável de ambiente.\n",
        "GOOGLE_API_KEY=userdata.get('GOOGLE_API_KEY')\n",
        "genai.configure(api_key=GOOGLE_API_KEY)"
      ],
      "metadata": {
        "id": "oI3pScFhMPJ_"
      },
      "execution_count": 95,
      "outputs": []
    },
    {
      "cell_type": "code",
      "source": [
        "for m in genai.list_models():\n",
        "  if 'embedContent' in m.supported_generation_methods:\n",
        "    print(m.name)"
      ],
      "metadata": {
        "colab": {
          "base_uri": "https://localhost:8080/",
          "height": 52
        },
        "id": "p5qnPzgZNHU3",
        "outputId": "ce86f727-be75-4011-91bc-a5bf2ba6651a"
      },
      "execution_count": 96,
      "outputs": [
        {
          "output_type": "stream",
          "name": "stdout",
          "text": [
            "models/embedding-001\n",
            "models/text-embedding-004\n"
          ]
        }
      ]
    },
    {
      "cell_type": "code",
      "source": [
        "#Exemplo de embedding\n",
        "title = 'A próxima geração de IA para desenvolvedores e google workspace'\n",
        "sample_text = ('title: A próxima geração de IA para desenvolvedores e google workspace'\n",
        " '\\n'\n",
        " 'Artigo completo:\\n'\n",
        " '\\n'\n",
        " 'Gemini API & Google Ai studio: Uma maneira acessível de explorar e criar protótipos com aplicação de IA generativa')\n",
        "\n",
        "model = 'models/embedding-001'\n",
        "embedding = genai.embed_content(model=model,\n",
        "                                content=sample_text,\n",
        "                                task_type=\"retrieval_document\",\n",
        "                                title=title)\n",
        "\n",
        "print(embedding)"
      ],
      "metadata": {
        "colab": {
          "base_uri": "https://localhost:8080/",
          "height": 54
        },
        "id": "FpLU-C7YSbET",
        "outputId": "f396daed-68ea-4354-d118-29416997f58b"
      },
      "execution_count": 97,
      "outputs": [
        {
          "output_type": "stream",
          "name": "stdout",
          "text": [
            "{'embedding': [0.051121052, -0.03450326, -0.01847918, 0.017880563, 0.06701618, -0.0069182348, -0.029383548, -0.022671016, 0.052983884, 0.058161028, 0.013963831, -0.0004470935, -0.051364787, -0.018985888, 0.007965824, -0.03226429, 0.022194274, -0.011394332, -0.03957263, -0.0013242282, 0.008564033, 0.009623501, -0.022576679, -0.058573373, -0.018770613, 0.023202395, 0.024460392, -0.04815109, -0.038678166, 0.020519141, -0.044422105, 0.057986464, -0.03604586, 0.009814669, -0.03806173, -0.046037894, -0.03076441, -0.044623453, 0.0010574206, -0.004996314, 0.008449619, -0.08262184, -0.008437593, 0.027028708, 0.00070115697, -0.016576426, 0.04065407, 0.047631405, 0.021231214, -0.06304564, 0.027775295, 0.03164259, 0.06067701, -0.04729818, -0.0111365635, -0.011405603, 0.026029434, -0.029765727, 0.024340717, 0.0016609969, -0.00059675827, 0.024875477, -0.016944222, 0.046944067, 0.019949881, -0.0679731, -0.043521333, -0.0027893605, 0.01704284, 0.046010897, 0.0005497971, 0.008225452, 0.058865998, -0.054026585, -0.035188377, -0.11438783, -0.033950645, 0.03695776, -0.004776149, 0.028277447, 0.01789949, -0.077318646, -0.052942924, -0.037877455, -0.01876163, 0.03190311, -0.054791816, -0.024692917, 0.046148147, 0.0077559855, 0.011779445, -0.03548363, 0.054998294, -0.050553475, -0.004029971, 0.08724445, -0.057563618, -0.020279564, -0.0077657714, -0.080381215, -0.01454443, 0.010407914, -0.04930267, 0.0025939175, 0.019478321, 0.03656746, -0.014230268, 0.016901435, -0.048279054, 0.10885825, -0.037211876, -0.013618952, 0.025654364, -0.06393082, 0.03855605, -0.018933099, 0.017727284, 0.042366967, 0.004766079, 0.045747947, 0.052425873, 0.032758035, 0.036921356, -0.0011205975, -0.04004333, 0.021576297, -0.04104865, 0.014780985, 0.06682419, 0.036623746, 0.0061226115, -0.04678162, -0.030414473, 0.04431101, 0.043766707, 0.04212295, 0.022483872, -0.0120906215, 0.05345129, 0.060016092, 0.002228024, 0.046418708, -0.0012157938, -0.008781116, -0.005004313, 0.0832438, -0.07598501, -0.015737051, 0.0312261, -0.009342145, -0.04031033, 0.004284698, -0.08205559, 0.0410495, 0.044405848, 0.011185062, -0.035130642, 0.062481895, 0.02653287, 0.012377014, 0.03778482, -0.004505765, 0.0017228889, 0.01527219, -0.021620052, -0.022115018, -0.010935626, 0.013498817, 0.014821483, 0.037505694, 0.007122626, 0.012421962, -0.0302555, -0.057310343, -0.008740843, -0.041424543, -0.0010569205, -0.009419556, -0.044343676, 0.022345787, -0.04221184, -0.056842193, 0.043723274, 0.0266836, 0.004427014, -0.02852319, 0.04561132, -0.026766222, -0.07645375, 0.040148072, 0.0037425887, -0.032450058, -0.020884093, 0.005958021, -0.03624882, 0.038633253, 0.023873042, 0.022302592, 0.008700934, -0.016904585, -0.0035408956, 0.065118045, 0.041411985, 0.002776422, -0.0015574946, 0.039169684, 0.08031293, -0.018848127, -0.030117301, 0.02902281, -0.039033704, -0.0026412904, 0.029074302, 0.038173355, 0.023345068, -0.017835947, -0.0032323792, -0.009021678, -0.030989751, -0.045026235, -0.022695655, -0.0066904826, -0.029879637, -0.012511865, -0.034480233, 0.082843915, -0.06734079, 0.05499523, 0.04918928, -0.079494916, 0.008097027, 0.06428606, 0.059895758, -0.0011778483, 0.048209798, 0.015564441, 0.010283767, 0.012144651, 0.033574667, 0.04320797, -0.031553484, 0.054772902, 0.04675204, 0.038730256, -0.05769159, 0.00044368993, 0.009091866, 0.052662972, -0.0006558133, 0.032618366, -0.013198729, -0.050022304, -0.051764745, 0.063200444, -0.024707876, -0.0056621693, -0.06337146, -0.06820418, 0.060266253, 0.0008562788, 0.072008535, -0.038547087, 0.0048912307, -0.0020626755, 0.0020034898, -0.051487427, 0.020917632, 0.034084596, -0.02266995, 0.035598323, -0.025206799, -0.06401429, 0.05296919, 0.05542695, 0.006324779, 0.029718086, 0.0046595666, 0.039949022, 0.060830716, -0.08558695, 0.006974437, 0.04715196, 0.009732863, -0.07676602, -0.057749152, 0.00076812506, -0.014247223, -0.050323255, -0.011552704, -0.05977683, -0.06845802, 0.039105088, -0.0023335367, 0.025123477, -0.05708764, 0.002243915, -0.03742455, 0.03743004, 0.054305706, -0.02228949, -0.022538932, -0.061880805, -0.034158006, -0.07172273, -0.021113517, -0.038357902, -0.010918167, -0.058018047, 0.054676652, 0.045174547, 0.007527419, -0.039022554, -0.009913141, 0.016735997, 0.08493525, 0.045346472, -0.033134636, 0.007482421, -0.009978873, 0.056597125, -0.004361777, 0.0033728024, -0.007843234, 0.0019426211, -0.021700254, 0.04083389, -0.030437507, -0.0059254826, -0.016317206, 0.025616467, -0.013439535, -0.0025341597, -0.01677416, 0.040158954, 0.062468234, -0.0005641986, -0.057269674, 0.008943878, -0.01724452, -0.034192592, -0.0030572547, -0.009158192, 5.1231436e-05, -0.040640045, 0.027076673, 0.006406076, -0.09891009, -0.010398754, 0.065004505, 0.012127027, -0.0039972044, 0.054580104, -0.02285415, -0.03592297, -0.004040303, -0.020110156, 0.028851919, 0.01861792, 0.056496203, -0.025618233, -0.014143341, 0.048061337, -0.009672466, 0.012737978, 0.01013986, 0.047995888, 0.009427185, -0.004457866, -0.0047332123, 0.021919092, 0.013111201, -0.03346687, 0.01614277, -0.017618239, 0.019176288, -0.0025533687, -0.032569844, -0.062025562, -0.015687004, 0.02863331, -0.0191273, -0.047093928, 0.04109094, 0.04699779, -0.0128989, 0.0027439015, 0.038691614, 0.058310814, 0.007601681, 0.04952965, 0.01874697, 0.00520412, 0.09447955, 0.027557222, 0.028889615, 0.015436523, 0.0007001874, -0.03933579, 0.030870458, -0.024332209, -0.0204763, -0.037806954, -0.029456237, -0.027840616, -0.023457155, -0.00048739449, -0.03314254, -0.03384664, -0.048434954, -0.037444144, 0.019624928, 0.00094128604, 0.05542787, -0.06919513, -0.05893125, -0.018654535, 0.012671694, -0.013575536, -0.013626598, -0.01535741, -0.015520044, 0.021352662, 0.024276251, -0.029098855, -0.047143787, -0.007951806, 0.018030407, -0.04981516, 0.0010888092, 0.021878393, 0.020538973, 0.016750336, 0.00931852, 0.016517013, -0.030040408, -0.042429782, 0.0009230701, 0.006848439, -0.019256376, 0.022350684, 0.027401736, -0.02182333, -0.0134968255, -0.005513505, -0.063182, -0.066865824, -0.0004561274, 0.008825508, 0.043910135, -0.058796808, 0.017989274, -0.052056625, -0.028560132, -0.04745915, -0.02493711, 0.018287407, 0.02255254, 0.018752744, -0.0065236096, 0.0067504877, 0.011089729, -0.025294464, -0.015918145, -0.02024105, 0.05398743, -0.0034559832, 0.0005077347, 0.0001112034, 0.009607088, 0.031272832, 0.019507296, -0.081453614, 0.03621219, -0.01706073, 0.013370176, 0.0044454904, -0.057673305, 0.03331772, -0.02956267, 0.016641218, -0.022925215, 0.018011663, 0.021889847, -0.015533309, -0.011922635, -0.041115656, 0.018400481, 0.004301491, 0.009847326, 0.015974056, 0.034458328, 0.032564178, -0.04635137, -0.062353678, -0.015214572, -0.022610232, -0.042859036, 0.019110179, 0.043874133, 0.022440039, -0.0025566416, -0.016802842, -0.016304966, 0.022514107, 0.048787706, -0.033421773, 0.018858671, -0.01139204, -0.00028072676, -0.03585888, -0.0163036, -0.004627293, 0.006075755, -0.038230557, 0.08622448, -0.04132735, -0.014256171, 0.030153347, 0.02330475, -0.008575514, 0.07477156, 0.031861965, -0.061356805, 0.0013032005, 0.022474945, -0.048224416, 0.016367698, -0.008421688, 0.0014146848, 0.027115475, -0.022172656, 0.066749796, -0.016783632, -0.04524945, 0.016927227, 0.006329253, 0.046693634, -0.011950366, -0.028547466, 0.01521081, 0.00562816, -0.06697691, 0.033382483, 0.018030632, -0.031093707, -0.0063983593, -0.008780525, -0.061689153, 0.022707416, -0.015676493, -0.009590038, 0.01508064, -0.0011924516, 0.017135624, 0.039047956, -0.051971298, -0.005075989, -0.010374266, 0.043221034, 0.016088689, 0.023031984, -0.009882822, -0.022535924, 0.0024940984, 0.058492187, -0.0016106222, -0.013714366, -0.01204184, 0.02806949, -0.026364543, -4.8706046e-05, 0.018233292, 0.023450255, 0.0075020613, 0.045812026, -0.010178523, -0.034550883, -0.014010359, -0.043614797, 0.039513797, 0.045338973, -0.004366966, -0.031300068, 0.035756733, -0.04051114, -0.00019534773, 0.0121031, 0.034778714, 0.04458929, 0.02576803, -0.05909241, 0.0570925, 0.013708003, 0.022293793, 0.02855354, -0.0017797592, 0.021488624, -0.014705825, 0.030026706, 0.061572663, -0.023934135, -0.033678453, 0.049433023, -0.014288126, -0.015050084, 0.018121343, -0.003967699, 0.015279606, 0.017818082, 0.009100329, 0.018093912, -0.08631193, 0.011853303, -0.03379593, -0.05947789, -0.019140141, 0.03322135, 0.01664057, -0.028115114, -0.011879162, 0.0366597, 0.036348574, 0.024709553, 0.036063626, 0.02300505, 0.013598762, -0.07031208, 0.020312352, 0.054142516, 0.053666033, 0.06331297, 0.060168, 0.017114455, -0.047013342, -0.059852935, -0.0023734935, 0.015034399, 0.059017766, -0.013113415, -0.046138167, -0.04062913, -0.011962739, -0.015607914, -0.028195493, -0.036527768, 0.011958055, -0.00916059, -0.067435496, -0.063656345, 0.005373674, -0.00024046023, 0.008384588, 0.009088399, -0.0025370088, 0.039594483, 0.008137132, -0.06767224, -0.055209387, 0.024504017, -0.02815741, -0.07167167, 0.018496642, 0.004061637, -0.0036725737, -0.05607558, -0.0351248, -0.062842086, -0.08634059, -0.044404227, 0.03565219, -0.042457893, 0.0530453, 0.02704811, -0.020305818, 0.026945662, 0.057341117, 0.008608556, -0.008449345, 0.0008721031, -0.017656194, 0.0036203, -0.02983608, 0.0010031383, 0.00041712858, -0.025345206, 0.020014603, 0.04869137, 0.00039000539, -0.009962977, -0.02530661, -0.019925129, -0.03191147, -0.0003241029, -0.010289638, -0.008586652, -0.03391043, -0.034550276, -0.05239057, 0.060138233, 0.04159986, -0.020194318, -0.017528255, -0.02359965, -0.029106662, 0.0031454137, -0.006734375, -0.030421644, 0.0015021074, -0.028674357, 0.04657637, 0.06212792, -0.049358074, -0.082259975, 0.016863935, -0.034863114, 0.010664311, -0.03734433, 8.0058395e-05, -0.016151013, 0.0300189, 0.008914236, -0.0030252286, 0.006832629, -0.036537897, -0.08636347, 0.027109958, -0.023670778, 0.015153663, -0.041618142, -0.0007599861, 0.073357165, -0.0015683275, -0.05148527, -0.0030343954, -0.01682012, 0.015197762, -0.036104858, 0.054844856, -0.046502028, -0.076643, -0.02115826, -0.027152834, -0.016521668, 0.061348267, 0.036794625, -0.033078082, 0.0055553075, -0.015276722, -0.008924923, -0.0754461, -0.034086805, -0.030764785, -0.004780101, 0.03783301, -0.0058499877, -0.006463177, -0.0019252324, -0.03913426, 0.0066736736, 0.00478813, -0.042900294, -0.03507614, 0.014102669, -0.02885695, 0.008872511, 0.089431025, -0.055606578, 0.013182225]}\n"
          ]
        }
      ]
    },
    {
      "cell_type": "code",
      "source": [
        "DOCUMENT1 = {\n",
        "    \"title\": \"Operando o Sistema de Controle Climático\",\n",
        "    \"content\": \"Seu Googlecar possui um sistema de controle climático que permite ajustar a temperatura e o fluxo de ar dentro do carro. Para operar o sistema de controle climático, use os botões e os botões giratórios localizados no console central. Temperatura: O botão de temperatura controla a temperatura dentro do carro. Gire o botão no sentido horário para aumentar a temperatura ou no sentido anti-horário para diminuir a temperatura. Fluxo de ar: O botão de fluxo de ar controla a quantidade de fluxo de ar dentro do carro. Gire o botão no sentido horário para aumentar o fluxo de ar ou no sentido anti-horário para diminuir o fluxo de ar. Velocidade do ventilador: O botão de velocidade do ventilador controla a velocidade do ventilador. Gire o botão no sentido horário para aumentar a velocidade do ventilador ou no sentido anti-horário para diminuir a velocidade do ventilador. Modo: O botão de modo permite que você selecione o modo desejado. Os modos disponíveis são: Auto: O carro ajustará automaticamente a temperatura e o fluxo de ar para manter um nível confortável. Cool: O carro sopra ar frio para dentro do carro. Heat: O carro sopra ar quente para dentro do carro. Defrost: O carro sopra ar quente no para-brisa para desembaçá-lo.\"\n",
        "}\n",
        "DOCUMENT2 = {\n",
        "    \"title\": \"Tela Sensível ao Toque\",\n",
        "    \"content\": \"Seu Googlecar possui uma grande tela sensível ao toque que oferece acesso a uma variedade de recursos, incluindo navegação, entretenimento e controle climático. Para usar a tela sensível ao toque, basta tocar no ícone desejado. Por exemplo, você pode tocar no ícone 'Navegação' para obter direções para o seu destino ou tocar no ícone 'Música' para tocar suas músicas favoritas.\"\n",
        "}\n",
        "DOCUMENT3 = {\n",
        "    \"title\": \"Mudança de Marchas\",\n",
        "    \"content\": \"Seu Googlecar possui uma transmissão automática. Para mudar de marcha, basta mover a alavanca de câmbio para a posição desejada. Park: Esta posição é usada quando você está estacionado. As rodas estão travadas e o carro não pode se mover. Reverse: Esta posição é usada para dar ré. Neutral: Esta posição é usada quando você está parado em um semáforo ou no trânsito. O carro não está engrenado e não se moverá a menos que você pressione o pedal do acelerador. Drive: Esta posição é usada para dirigir para frente. Low: Esta posição é usada para dirigir na neve ou em outras condições escorregadias.\"\n",
        "}\n",
        "\n",
        "documents = [DOCUMENT1, DOCUMENT2, DOCUMENT3]"
      ],
      "metadata": {
        "id": "ApIs_IQSXzmC"
      },
      "execution_count": 98,
      "outputs": []
    },
    {
      "cell_type": "code",
      "source": [
        "df = pd.DataFrame(documents)\n",
        "df.columns = ['Titulo', 'Conteudo']\n",
        "df"
      ],
      "metadata": {
        "colab": {
          "base_uri": "https://localhost:8080/",
          "height": 143
        },
        "id": "ZjP5Q_PBap2S",
        "outputId": "6bd97968-33cf-4b47-e2ec-3ead0127c028"
      },
      "execution_count": 99,
      "outputs": [
        {
          "output_type": "execute_result",
          "data": {
            "text/plain": [
              "                                     Titulo  \\\n",
              "0  Operando o Sistema de Controle Climático   \n",
              "1                    Tela Sensível ao Toque   \n",
              "2                        Mudança de Marchas   \n",
              "\n",
              "                                            Conteudo  \n",
              "0  Seu Googlecar possui um sistema de controle cl...  \n",
              "1  Seu Googlecar possui uma grande tela sensível ...  \n",
              "2  Seu Googlecar possui uma transmissão automátic...  "
            ],
            "text/html": [
              "\n",
              "  <div id=\"df-95ab8258-38d0-4dc7-8170-3593d6a474c6\" class=\"colab-df-container\">\n",
              "    <div>\n",
              "<style scoped>\n",
              "    .dataframe tbody tr th:only-of-type {\n",
              "        vertical-align: middle;\n",
              "    }\n",
              "\n",
              "    .dataframe tbody tr th {\n",
              "        vertical-align: top;\n",
              "    }\n",
              "\n",
              "    .dataframe thead th {\n",
              "        text-align: right;\n",
              "    }\n",
              "</style>\n",
              "<table border=\"1\" class=\"dataframe\">\n",
              "  <thead>\n",
              "    <tr style=\"text-align: right;\">\n",
              "      <th></th>\n",
              "      <th>Titulo</th>\n",
              "      <th>Conteudo</th>\n",
              "    </tr>\n",
              "  </thead>\n",
              "  <tbody>\n",
              "    <tr>\n",
              "      <th>0</th>\n",
              "      <td>Operando o Sistema de Controle Climático</td>\n",
              "      <td>Seu Googlecar possui um sistema de controle cl...</td>\n",
              "    </tr>\n",
              "    <tr>\n",
              "      <th>1</th>\n",
              "      <td>Tela Sensível ao Toque</td>\n",
              "      <td>Seu Googlecar possui uma grande tela sensível ...</td>\n",
              "    </tr>\n",
              "    <tr>\n",
              "      <th>2</th>\n",
              "      <td>Mudança de Marchas</td>\n",
              "      <td>Seu Googlecar possui uma transmissão automátic...</td>\n",
              "    </tr>\n",
              "  </tbody>\n",
              "</table>\n",
              "</div>\n",
              "    <div class=\"colab-df-buttons\">\n",
              "\n",
              "  <div class=\"colab-df-container\">\n",
              "    <button class=\"colab-df-convert\" onclick=\"convertToInteractive('df-95ab8258-38d0-4dc7-8170-3593d6a474c6')\"\n",
              "            title=\"Convert this dataframe to an interactive table.\"\n",
              "            style=\"display:none;\">\n",
              "\n",
              "  <svg xmlns=\"http://www.w3.org/2000/svg\" height=\"24px\" viewBox=\"0 -960 960 960\">\n",
              "    <path d=\"M120-120v-720h720v720H120Zm60-500h600v-160H180v160Zm220 220h160v-160H400v160Zm0 220h160v-160H400v160ZM180-400h160v-160H180v160Zm440 0h160v-160H620v160ZM180-180h160v-160H180v160Zm440 0h160v-160H620v160Z\"/>\n",
              "  </svg>\n",
              "    </button>\n",
              "\n",
              "  <style>\n",
              "    .colab-df-container {\n",
              "      display:flex;\n",
              "      gap: 12px;\n",
              "    }\n",
              "\n",
              "    .colab-df-convert {\n",
              "      background-color: #E8F0FE;\n",
              "      border: none;\n",
              "      border-radius: 50%;\n",
              "      cursor: pointer;\n",
              "      display: none;\n",
              "      fill: #1967D2;\n",
              "      height: 32px;\n",
              "      padding: 0 0 0 0;\n",
              "      width: 32px;\n",
              "    }\n",
              "\n",
              "    .colab-df-convert:hover {\n",
              "      background-color: #E2EBFA;\n",
              "      box-shadow: 0px 1px 2px rgba(60, 64, 67, 0.3), 0px 1px 3px 1px rgba(60, 64, 67, 0.15);\n",
              "      fill: #174EA6;\n",
              "    }\n",
              "\n",
              "    .colab-df-buttons div {\n",
              "      margin-bottom: 4px;\n",
              "    }\n",
              "\n",
              "    [theme=dark] .colab-df-convert {\n",
              "      background-color: #3B4455;\n",
              "      fill: #D2E3FC;\n",
              "    }\n",
              "\n",
              "    [theme=dark] .colab-df-convert:hover {\n",
              "      background-color: #434B5C;\n",
              "      box-shadow: 0px 1px 3px 1px rgba(0, 0, 0, 0.15);\n",
              "      filter: drop-shadow(0px 1px 2px rgba(0, 0, 0, 0.3));\n",
              "      fill: #FFFFFF;\n",
              "    }\n",
              "  </style>\n",
              "\n",
              "    <script>\n",
              "      const buttonEl =\n",
              "        document.querySelector('#df-95ab8258-38d0-4dc7-8170-3593d6a474c6 button.colab-df-convert');\n",
              "      buttonEl.style.display =\n",
              "        google.colab.kernel.accessAllowed ? 'block' : 'none';\n",
              "\n",
              "      async function convertToInteractive(key) {\n",
              "        const element = document.querySelector('#df-95ab8258-38d0-4dc7-8170-3593d6a474c6');\n",
              "        const dataTable =\n",
              "          await google.colab.kernel.invokeFunction('convertToInteractive',\n",
              "                                                    [key], {});\n",
              "        if (!dataTable) return;\n",
              "\n",
              "        const docLinkHtml = 'Like what you see? Visit the ' +\n",
              "          '<a target=\"_blank\" href=https://colab.research.google.com/notebooks/data_table.ipynb>data table notebook</a>'\n",
              "          + ' to learn more about interactive tables.';\n",
              "        element.innerHTML = '';\n",
              "        dataTable['output_type'] = 'display_data';\n",
              "        await google.colab.output.renderOutput(dataTable, element);\n",
              "        const docLink = document.createElement('div');\n",
              "        docLink.innerHTML = docLinkHtml;\n",
              "        element.appendChild(docLink);\n",
              "      }\n",
              "    </script>\n",
              "  </div>\n",
              "\n",
              "\n",
              "<div id=\"df-018c1f5d-a562-4dd0-abb3-29484480e250\">\n",
              "  <button class=\"colab-df-quickchart\" onclick=\"quickchart('df-018c1f5d-a562-4dd0-abb3-29484480e250')\"\n",
              "            title=\"Suggest charts\"\n",
              "            style=\"display:none;\">\n",
              "\n",
              "<svg xmlns=\"http://www.w3.org/2000/svg\" height=\"24px\"viewBox=\"0 0 24 24\"\n",
              "     width=\"24px\">\n",
              "    <g>\n",
              "        <path d=\"M19 3H5c-1.1 0-2 .9-2 2v14c0 1.1.9 2 2 2h14c1.1 0 2-.9 2-2V5c0-1.1-.9-2-2-2zM9 17H7v-7h2v7zm4 0h-2V7h2v10zm4 0h-2v-4h2v4z\"/>\n",
              "    </g>\n",
              "</svg>\n",
              "  </button>\n",
              "\n",
              "<style>\n",
              "  .colab-df-quickchart {\n",
              "      --bg-color: #E8F0FE;\n",
              "      --fill-color: #1967D2;\n",
              "      --hover-bg-color: #E2EBFA;\n",
              "      --hover-fill-color: #174EA6;\n",
              "      --disabled-fill-color: #AAA;\n",
              "      --disabled-bg-color: #DDD;\n",
              "  }\n",
              "\n",
              "  [theme=dark] .colab-df-quickchart {\n",
              "      --bg-color: #3B4455;\n",
              "      --fill-color: #D2E3FC;\n",
              "      --hover-bg-color: #434B5C;\n",
              "      --hover-fill-color: #FFFFFF;\n",
              "      --disabled-bg-color: #3B4455;\n",
              "      --disabled-fill-color: #666;\n",
              "  }\n",
              "\n",
              "  .colab-df-quickchart {\n",
              "    background-color: var(--bg-color);\n",
              "    border: none;\n",
              "    border-radius: 50%;\n",
              "    cursor: pointer;\n",
              "    display: none;\n",
              "    fill: var(--fill-color);\n",
              "    height: 32px;\n",
              "    padding: 0;\n",
              "    width: 32px;\n",
              "  }\n",
              "\n",
              "  .colab-df-quickchart:hover {\n",
              "    background-color: var(--hover-bg-color);\n",
              "    box-shadow: 0 1px 2px rgba(60, 64, 67, 0.3), 0 1px 3px 1px rgba(60, 64, 67, 0.15);\n",
              "    fill: var(--button-hover-fill-color);\n",
              "  }\n",
              "\n",
              "  .colab-df-quickchart-complete:disabled,\n",
              "  .colab-df-quickchart-complete:disabled:hover {\n",
              "    background-color: var(--disabled-bg-color);\n",
              "    fill: var(--disabled-fill-color);\n",
              "    box-shadow: none;\n",
              "  }\n",
              "\n",
              "  .colab-df-spinner {\n",
              "    border: 2px solid var(--fill-color);\n",
              "    border-color: transparent;\n",
              "    border-bottom-color: var(--fill-color);\n",
              "    animation:\n",
              "      spin 1s steps(1) infinite;\n",
              "  }\n",
              "\n",
              "  @keyframes spin {\n",
              "    0% {\n",
              "      border-color: transparent;\n",
              "      border-bottom-color: var(--fill-color);\n",
              "      border-left-color: var(--fill-color);\n",
              "    }\n",
              "    20% {\n",
              "      border-color: transparent;\n",
              "      border-left-color: var(--fill-color);\n",
              "      border-top-color: var(--fill-color);\n",
              "    }\n",
              "    30% {\n",
              "      border-color: transparent;\n",
              "      border-left-color: var(--fill-color);\n",
              "      border-top-color: var(--fill-color);\n",
              "      border-right-color: var(--fill-color);\n",
              "    }\n",
              "    40% {\n",
              "      border-color: transparent;\n",
              "      border-right-color: var(--fill-color);\n",
              "      border-top-color: var(--fill-color);\n",
              "    }\n",
              "    60% {\n",
              "      border-color: transparent;\n",
              "      border-right-color: var(--fill-color);\n",
              "    }\n",
              "    80% {\n",
              "      border-color: transparent;\n",
              "      border-right-color: var(--fill-color);\n",
              "      border-bottom-color: var(--fill-color);\n",
              "    }\n",
              "    90% {\n",
              "      border-color: transparent;\n",
              "      border-bottom-color: var(--fill-color);\n",
              "    }\n",
              "  }\n",
              "</style>\n",
              "\n",
              "  <script>\n",
              "    async function quickchart(key) {\n",
              "      const quickchartButtonEl =\n",
              "        document.querySelector('#' + key + ' button');\n",
              "      quickchartButtonEl.disabled = true;  // To prevent multiple clicks.\n",
              "      quickchartButtonEl.classList.add('colab-df-spinner');\n",
              "      try {\n",
              "        const charts = await google.colab.kernel.invokeFunction(\n",
              "            'suggestCharts', [key], {});\n",
              "      } catch (error) {\n",
              "        console.error('Error during call to suggestCharts:', error);\n",
              "      }\n",
              "      quickchartButtonEl.classList.remove('colab-df-spinner');\n",
              "      quickchartButtonEl.classList.add('colab-df-quickchart-complete');\n",
              "    }\n",
              "    (() => {\n",
              "      let quickchartButtonEl =\n",
              "        document.querySelector('#df-018c1f5d-a562-4dd0-abb3-29484480e250 button');\n",
              "      quickchartButtonEl.style.display =\n",
              "        google.colab.kernel.accessAllowed ? 'block' : 'none';\n",
              "    })();\n",
              "  </script>\n",
              "</div>\n",
              "    </div>\n",
              "  </div>\n"
            ],
            "application/vnd.google.colaboratory.intrinsic+json": {
              "type": "dataframe",
              "variable_name": "df",
              "summary": "{\n  \"name\": \"df\",\n  \"rows\": 3,\n  \"fields\": [\n    {\n      \"column\": \"Titulo\",\n      \"properties\": {\n        \"dtype\": \"string\",\n        \"num_unique_values\": 3,\n        \"samples\": [\n          \"Operando o Sistema de Controle Clim\\u00e1tico\",\n          \"Tela Sens\\u00edvel ao Toque\",\n          \"Mudan\\u00e7a de Marchas\"\n        ],\n        \"semantic_type\": \"\",\n        \"description\": \"\"\n      }\n    },\n    {\n      \"column\": \"Conteudo\",\n      \"properties\": {\n        \"dtype\": \"string\",\n        \"num_unique_values\": 3,\n        \"samples\": [\n          \"Seu Googlecar possui um sistema de controle clim\\u00e1tico que permite ajustar a temperatura e o fluxo de ar dentro do carro. Para operar o sistema de controle clim\\u00e1tico, use os bot\\u00f5es e os bot\\u00f5es girat\\u00f3rios localizados no console central. Temperatura: O bot\\u00e3o de temperatura controla a temperatura dentro do carro. Gire o bot\\u00e3o no sentido hor\\u00e1rio para aumentar a temperatura ou no sentido anti-hor\\u00e1rio para diminuir a temperatura. Fluxo de ar: O bot\\u00e3o de fluxo de ar controla a quantidade de fluxo de ar dentro do carro. Gire o bot\\u00e3o no sentido hor\\u00e1rio para aumentar o fluxo de ar ou no sentido anti-hor\\u00e1rio para diminuir o fluxo de ar. Velocidade do ventilador: O bot\\u00e3o de velocidade do ventilador controla a velocidade do ventilador. Gire o bot\\u00e3o no sentido hor\\u00e1rio para aumentar a velocidade do ventilador ou no sentido anti-hor\\u00e1rio para diminuir a velocidade do ventilador. Modo: O bot\\u00e3o de modo permite que voc\\u00ea selecione o modo desejado. Os modos dispon\\u00edveis s\\u00e3o: Auto: O carro ajustar\\u00e1 automaticamente a temperatura e o fluxo de ar para manter um n\\u00edvel confort\\u00e1vel. Cool: O carro sopra ar frio para dentro do carro. Heat: O carro sopra ar quente para dentro do carro. Defrost: O carro sopra ar quente no para-brisa para desemba\\u00e7\\u00e1-lo.\",\n          \"Seu Googlecar possui uma grande tela sens\\u00edvel ao toque que oferece acesso a uma variedade de recursos, incluindo navega\\u00e7\\u00e3o, entretenimento e controle clim\\u00e1tico. Para usar a tela sens\\u00edvel ao toque, basta tocar no \\u00edcone desejado. Por exemplo, voc\\u00ea pode tocar no \\u00edcone 'Navega\\u00e7\\u00e3o' para obter dire\\u00e7\\u00f5es para o seu destino ou tocar no \\u00edcone 'M\\u00fasica' para tocar suas m\\u00fasicas favoritas.\",\n          \"Seu Googlecar possui uma transmiss\\u00e3o autom\\u00e1tica. Para mudar de marcha, basta mover a alavanca de c\\u00e2mbio para a posi\\u00e7\\u00e3o desejada. Park: Esta posi\\u00e7\\u00e3o \\u00e9 usada quando voc\\u00ea est\\u00e1 estacionado. As rodas est\\u00e3o travadas e o carro n\\u00e3o pode se mover. Reverse: Esta posi\\u00e7\\u00e3o \\u00e9 usada para dar r\\u00e9. Neutral: Esta posi\\u00e7\\u00e3o \\u00e9 usada quando voc\\u00ea est\\u00e1 parado em um sem\\u00e1foro ou no tr\\u00e2nsito. O carro n\\u00e3o est\\u00e1 engrenado e n\\u00e3o se mover\\u00e1 a menos que voc\\u00ea pressione o pedal do acelerador. Drive: Esta posi\\u00e7\\u00e3o \\u00e9 usada para dirigir para frente. Low: Esta posi\\u00e7\\u00e3o \\u00e9 usada para dirigir na neve ou em outras condi\\u00e7\\u00f5es escorregadias.\"\n        ],\n        \"semantic_type\": \"\",\n        \"description\": \"\"\n      }\n    }\n  ]\n}"
            }
          },
          "metadata": {},
          "execution_count": 99
        }
      ]
    },
    {
      "cell_type": "code",
      "source": [
        "model = 'models/embedding-001'"
      ],
      "metadata": {
        "id": "qc2HBW-VfkVR"
      },
      "execution_count": 87,
      "outputs": []
    },
    {
      "cell_type": "code",
      "source": [
        "def embed_fn(title, text):\n",
        "  return genai.embed_content(model=model,\n",
        "                             content=text,\n",
        "                             title=title,\n",
        "                             task_type=\"retrieval_document\")[\"embedding\"]\n"
      ],
      "metadata": {
        "id": "Hg6Oc-_lf5n5"
      },
      "execution_count": 106,
      "outputs": []
    },
    {
      "cell_type": "code",
      "source": [
        "df['Embeddings'] = df.apply(lambda row: embed_fn(row['Titulo'], row['Conteudo']), axis=1)\n",
        "df"
      ],
      "metadata": {
        "colab": {
          "base_uri": "https://localhost:8080/",
          "height": 196
        },
        "id": "kftSqwTTvOZP",
        "outputId": "5962c76d-8efb-4f88-8b0d-d7937503d93d"
      },
      "execution_count": 102,
      "outputs": [
        {
          "output_type": "execute_result",
          "data": {
            "text/plain": [
              "                                     Titulo  \\\n",
              "0  Operando o Sistema de Controle Climático   \n",
              "1                    Tela Sensível ao Toque   \n",
              "2                        Mudança de Marchas   \n",
              "\n",
              "                                            Conteudo  \\\n",
              "0  Seu Googlecar possui um sistema de controle cl...   \n",
              "1  Seu Googlecar possui uma grande tela sensível ...   \n",
              "2  Seu Googlecar possui uma transmissão automátic...   \n",
              "\n",
              "                                          Embeddings  \n",
              "0  [-0.01492241, -0.026373545, -0.030898094, 0.04...  \n",
              "1  [0.025850883, -0.038375888, 0.025512744, 0.010...  \n",
              "2  [-0.010577737, -0.025415195, -0.0061367177, 0....  "
            ],
            "text/html": [
              "\n",
              "  <div id=\"df-5b22ce8b-2ff4-496f-94f3-69b59515e528\" class=\"colab-df-container\">\n",
              "    <div>\n",
              "<style scoped>\n",
              "    .dataframe tbody tr th:only-of-type {\n",
              "        vertical-align: middle;\n",
              "    }\n",
              "\n",
              "    .dataframe tbody tr th {\n",
              "        vertical-align: top;\n",
              "    }\n",
              "\n",
              "    .dataframe thead th {\n",
              "        text-align: right;\n",
              "    }\n",
              "</style>\n",
              "<table border=\"1\" class=\"dataframe\">\n",
              "  <thead>\n",
              "    <tr style=\"text-align: right;\">\n",
              "      <th></th>\n",
              "      <th>Titulo</th>\n",
              "      <th>Conteudo</th>\n",
              "      <th>Embeddings</th>\n",
              "    </tr>\n",
              "  </thead>\n",
              "  <tbody>\n",
              "    <tr>\n",
              "      <th>0</th>\n",
              "      <td>Operando o Sistema de Controle Climático</td>\n",
              "      <td>Seu Googlecar possui um sistema de controle cl...</td>\n",
              "      <td>[-0.01492241, -0.026373545, -0.030898094, 0.04...</td>\n",
              "    </tr>\n",
              "    <tr>\n",
              "      <th>1</th>\n",
              "      <td>Tela Sensível ao Toque</td>\n",
              "      <td>Seu Googlecar possui uma grande tela sensível ...</td>\n",
              "      <td>[0.025850883, -0.038375888, 0.025512744, 0.010...</td>\n",
              "    </tr>\n",
              "    <tr>\n",
              "      <th>2</th>\n",
              "      <td>Mudança de Marchas</td>\n",
              "      <td>Seu Googlecar possui uma transmissão automátic...</td>\n",
              "      <td>[-0.010577737, -0.025415195, -0.0061367177, 0....</td>\n",
              "    </tr>\n",
              "  </tbody>\n",
              "</table>\n",
              "</div>\n",
              "    <div class=\"colab-df-buttons\">\n",
              "\n",
              "  <div class=\"colab-df-container\">\n",
              "    <button class=\"colab-df-convert\" onclick=\"convertToInteractive('df-5b22ce8b-2ff4-496f-94f3-69b59515e528')\"\n",
              "            title=\"Convert this dataframe to an interactive table.\"\n",
              "            style=\"display:none;\">\n",
              "\n",
              "  <svg xmlns=\"http://www.w3.org/2000/svg\" height=\"24px\" viewBox=\"0 -960 960 960\">\n",
              "    <path d=\"M120-120v-720h720v720H120Zm60-500h600v-160H180v160Zm220 220h160v-160H400v160Zm0 220h160v-160H400v160ZM180-400h160v-160H180v160Zm440 0h160v-160H620v160ZM180-180h160v-160H180v160Zm440 0h160v-160H620v160Z\"/>\n",
              "  </svg>\n",
              "    </button>\n",
              "\n",
              "  <style>\n",
              "    .colab-df-container {\n",
              "      display:flex;\n",
              "      gap: 12px;\n",
              "    }\n",
              "\n",
              "    .colab-df-convert {\n",
              "      background-color: #E8F0FE;\n",
              "      border: none;\n",
              "      border-radius: 50%;\n",
              "      cursor: pointer;\n",
              "      display: none;\n",
              "      fill: #1967D2;\n",
              "      height: 32px;\n",
              "      padding: 0 0 0 0;\n",
              "      width: 32px;\n",
              "    }\n",
              "\n",
              "    .colab-df-convert:hover {\n",
              "      background-color: #E2EBFA;\n",
              "      box-shadow: 0px 1px 2px rgba(60, 64, 67, 0.3), 0px 1px 3px 1px rgba(60, 64, 67, 0.15);\n",
              "      fill: #174EA6;\n",
              "    }\n",
              "\n",
              "    .colab-df-buttons div {\n",
              "      margin-bottom: 4px;\n",
              "    }\n",
              "\n",
              "    [theme=dark] .colab-df-convert {\n",
              "      background-color: #3B4455;\n",
              "      fill: #D2E3FC;\n",
              "    }\n",
              "\n",
              "    [theme=dark] .colab-df-convert:hover {\n",
              "      background-color: #434B5C;\n",
              "      box-shadow: 0px 1px 3px 1px rgba(0, 0, 0, 0.15);\n",
              "      filter: drop-shadow(0px 1px 2px rgba(0, 0, 0, 0.3));\n",
              "      fill: #FFFFFF;\n",
              "    }\n",
              "  </style>\n",
              "\n",
              "    <script>\n",
              "      const buttonEl =\n",
              "        document.querySelector('#df-5b22ce8b-2ff4-496f-94f3-69b59515e528 button.colab-df-convert');\n",
              "      buttonEl.style.display =\n",
              "        google.colab.kernel.accessAllowed ? 'block' : 'none';\n",
              "\n",
              "      async function convertToInteractive(key) {\n",
              "        const element = document.querySelector('#df-5b22ce8b-2ff4-496f-94f3-69b59515e528');\n",
              "        const dataTable =\n",
              "          await google.colab.kernel.invokeFunction('convertToInteractive',\n",
              "                                                    [key], {});\n",
              "        if (!dataTable) return;\n",
              "\n",
              "        const docLinkHtml = 'Like what you see? Visit the ' +\n",
              "          '<a target=\"_blank\" href=https://colab.research.google.com/notebooks/data_table.ipynb>data table notebook</a>'\n",
              "          + ' to learn more about interactive tables.';\n",
              "        element.innerHTML = '';\n",
              "        dataTable['output_type'] = 'display_data';\n",
              "        await google.colab.output.renderOutput(dataTable, element);\n",
              "        const docLink = document.createElement('div');\n",
              "        docLink.innerHTML = docLinkHtml;\n",
              "        element.appendChild(docLink);\n",
              "      }\n",
              "    </script>\n",
              "  </div>\n",
              "\n",
              "\n",
              "<div id=\"df-38616cc1-e657-423a-adc0-7aab3e9567b5\">\n",
              "  <button class=\"colab-df-quickchart\" onclick=\"quickchart('df-38616cc1-e657-423a-adc0-7aab3e9567b5')\"\n",
              "            title=\"Suggest charts\"\n",
              "            style=\"display:none;\">\n",
              "\n",
              "<svg xmlns=\"http://www.w3.org/2000/svg\" height=\"24px\"viewBox=\"0 0 24 24\"\n",
              "     width=\"24px\">\n",
              "    <g>\n",
              "        <path d=\"M19 3H5c-1.1 0-2 .9-2 2v14c0 1.1.9 2 2 2h14c1.1 0 2-.9 2-2V5c0-1.1-.9-2-2-2zM9 17H7v-7h2v7zm4 0h-2V7h2v10zm4 0h-2v-4h2v4z\"/>\n",
              "    </g>\n",
              "</svg>\n",
              "  </button>\n",
              "\n",
              "<style>\n",
              "  .colab-df-quickchart {\n",
              "      --bg-color: #E8F0FE;\n",
              "      --fill-color: #1967D2;\n",
              "      --hover-bg-color: #E2EBFA;\n",
              "      --hover-fill-color: #174EA6;\n",
              "      --disabled-fill-color: #AAA;\n",
              "      --disabled-bg-color: #DDD;\n",
              "  }\n",
              "\n",
              "  [theme=dark] .colab-df-quickchart {\n",
              "      --bg-color: #3B4455;\n",
              "      --fill-color: #D2E3FC;\n",
              "      --hover-bg-color: #434B5C;\n",
              "      --hover-fill-color: #FFFFFF;\n",
              "      --disabled-bg-color: #3B4455;\n",
              "      --disabled-fill-color: #666;\n",
              "  }\n",
              "\n",
              "  .colab-df-quickchart {\n",
              "    background-color: var(--bg-color);\n",
              "    border: none;\n",
              "    border-radius: 50%;\n",
              "    cursor: pointer;\n",
              "    display: none;\n",
              "    fill: var(--fill-color);\n",
              "    height: 32px;\n",
              "    padding: 0;\n",
              "    width: 32px;\n",
              "  }\n",
              "\n",
              "  .colab-df-quickchart:hover {\n",
              "    background-color: var(--hover-bg-color);\n",
              "    box-shadow: 0 1px 2px rgba(60, 64, 67, 0.3), 0 1px 3px 1px rgba(60, 64, 67, 0.15);\n",
              "    fill: var(--button-hover-fill-color);\n",
              "  }\n",
              "\n",
              "  .colab-df-quickchart-complete:disabled,\n",
              "  .colab-df-quickchart-complete:disabled:hover {\n",
              "    background-color: var(--disabled-bg-color);\n",
              "    fill: var(--disabled-fill-color);\n",
              "    box-shadow: none;\n",
              "  }\n",
              "\n",
              "  .colab-df-spinner {\n",
              "    border: 2px solid var(--fill-color);\n",
              "    border-color: transparent;\n",
              "    border-bottom-color: var(--fill-color);\n",
              "    animation:\n",
              "      spin 1s steps(1) infinite;\n",
              "  }\n",
              "\n",
              "  @keyframes spin {\n",
              "    0% {\n",
              "      border-color: transparent;\n",
              "      border-bottom-color: var(--fill-color);\n",
              "      border-left-color: var(--fill-color);\n",
              "    }\n",
              "    20% {\n",
              "      border-color: transparent;\n",
              "      border-left-color: var(--fill-color);\n",
              "      border-top-color: var(--fill-color);\n",
              "    }\n",
              "    30% {\n",
              "      border-color: transparent;\n",
              "      border-left-color: var(--fill-color);\n",
              "      border-top-color: var(--fill-color);\n",
              "      border-right-color: var(--fill-color);\n",
              "    }\n",
              "    40% {\n",
              "      border-color: transparent;\n",
              "      border-right-color: var(--fill-color);\n",
              "      border-top-color: var(--fill-color);\n",
              "    }\n",
              "    60% {\n",
              "      border-color: transparent;\n",
              "      border-right-color: var(--fill-color);\n",
              "    }\n",
              "    80% {\n",
              "      border-color: transparent;\n",
              "      border-right-color: var(--fill-color);\n",
              "      border-bottom-color: var(--fill-color);\n",
              "    }\n",
              "    90% {\n",
              "      border-color: transparent;\n",
              "      border-bottom-color: var(--fill-color);\n",
              "    }\n",
              "  }\n",
              "</style>\n",
              "\n",
              "  <script>\n",
              "    async function quickchart(key) {\n",
              "      const quickchartButtonEl =\n",
              "        document.querySelector('#' + key + ' button');\n",
              "      quickchartButtonEl.disabled = true;  // To prevent multiple clicks.\n",
              "      quickchartButtonEl.classList.add('colab-df-spinner');\n",
              "      try {\n",
              "        const charts = await google.colab.kernel.invokeFunction(\n",
              "            'suggestCharts', [key], {});\n",
              "      } catch (error) {\n",
              "        console.error('Error during call to suggestCharts:', error);\n",
              "      }\n",
              "      quickchartButtonEl.classList.remove('colab-df-spinner');\n",
              "      quickchartButtonEl.classList.add('colab-df-quickchart-complete');\n",
              "    }\n",
              "    (() => {\n",
              "      let quickchartButtonEl =\n",
              "        document.querySelector('#df-38616cc1-e657-423a-adc0-7aab3e9567b5 button');\n",
              "      quickchartButtonEl.style.display =\n",
              "        google.colab.kernel.accessAllowed ? 'block' : 'none';\n",
              "    })();\n",
              "  </script>\n",
              "</div>\n",
              "    </div>\n",
              "  </div>\n"
            ],
            "application/vnd.google.colaboratory.intrinsic+json": {
              "type": "dataframe",
              "variable_name": "df",
              "summary": "{\n  \"name\": \"df\",\n  \"rows\": 3,\n  \"fields\": [\n    {\n      \"column\": \"Titulo\",\n      \"properties\": {\n        \"dtype\": \"string\",\n        \"num_unique_values\": 3,\n        \"samples\": [\n          \"Operando o Sistema de Controle Clim\\u00e1tico\",\n          \"Tela Sens\\u00edvel ao Toque\",\n          \"Mudan\\u00e7a de Marchas\"\n        ],\n        \"semantic_type\": \"\",\n        \"description\": \"\"\n      }\n    },\n    {\n      \"column\": \"Conteudo\",\n      \"properties\": {\n        \"dtype\": \"string\",\n        \"num_unique_values\": 3,\n        \"samples\": [\n          \"Seu Googlecar possui um sistema de controle clim\\u00e1tico que permite ajustar a temperatura e o fluxo de ar dentro do carro. Para operar o sistema de controle clim\\u00e1tico, use os bot\\u00f5es e os bot\\u00f5es girat\\u00f3rios localizados no console central. Temperatura: O bot\\u00e3o de temperatura controla a temperatura dentro do carro. Gire o bot\\u00e3o no sentido hor\\u00e1rio para aumentar a temperatura ou no sentido anti-hor\\u00e1rio para diminuir a temperatura. Fluxo de ar: O bot\\u00e3o de fluxo de ar controla a quantidade de fluxo de ar dentro do carro. Gire o bot\\u00e3o no sentido hor\\u00e1rio para aumentar o fluxo de ar ou no sentido anti-hor\\u00e1rio para diminuir o fluxo de ar. Velocidade do ventilador: O bot\\u00e3o de velocidade do ventilador controla a velocidade do ventilador. Gire o bot\\u00e3o no sentido hor\\u00e1rio para aumentar a velocidade do ventilador ou no sentido anti-hor\\u00e1rio para diminuir a velocidade do ventilador. Modo: O bot\\u00e3o de modo permite que voc\\u00ea selecione o modo desejado. Os modos dispon\\u00edveis s\\u00e3o: Auto: O carro ajustar\\u00e1 automaticamente a temperatura e o fluxo de ar para manter um n\\u00edvel confort\\u00e1vel. Cool: O carro sopra ar frio para dentro do carro. Heat: O carro sopra ar quente para dentro do carro. Defrost: O carro sopra ar quente no para-brisa para desemba\\u00e7\\u00e1-lo.\",\n          \"Seu Googlecar possui uma grande tela sens\\u00edvel ao toque que oferece acesso a uma variedade de recursos, incluindo navega\\u00e7\\u00e3o, entretenimento e controle clim\\u00e1tico. Para usar a tela sens\\u00edvel ao toque, basta tocar no \\u00edcone desejado. Por exemplo, voc\\u00ea pode tocar no \\u00edcone 'Navega\\u00e7\\u00e3o' para obter dire\\u00e7\\u00f5es para o seu destino ou tocar no \\u00edcone 'M\\u00fasica' para tocar suas m\\u00fasicas favoritas.\",\n          \"Seu Googlecar possui uma transmiss\\u00e3o autom\\u00e1tica. Para mudar de marcha, basta mover a alavanca de c\\u00e2mbio para a posi\\u00e7\\u00e3o desejada. Park: Esta posi\\u00e7\\u00e3o \\u00e9 usada quando voc\\u00ea est\\u00e1 estacionado. As rodas est\\u00e3o travadas e o carro n\\u00e3o pode se mover. Reverse: Esta posi\\u00e7\\u00e3o \\u00e9 usada para dar r\\u00e9. Neutral: Esta posi\\u00e7\\u00e3o \\u00e9 usada quando voc\\u00ea est\\u00e1 parado em um sem\\u00e1foro ou no tr\\u00e2nsito. O carro n\\u00e3o est\\u00e1 engrenado e n\\u00e3o se mover\\u00e1 a menos que voc\\u00ea pressione o pedal do acelerador. Drive: Esta posi\\u00e7\\u00e3o \\u00e9 usada para dirigir para frente. Low: Esta posi\\u00e7\\u00e3o \\u00e9 usada para dirigir na neve ou em outras condi\\u00e7\\u00f5es escorregadias.\"\n        ],\n        \"semantic_type\": \"\",\n        \"description\": \"\"\n      }\n    },\n    {\n      \"column\": \"Embeddings\",\n      \"properties\": {\n        \"dtype\": \"object\",\n        \"semantic_type\": \"\",\n        \"description\": \"\"\n      }\n    }\n  ]\n}"
            }
          },
          "metadata": {},
          "execution_count": 102
        }
      ]
    },
    {
      "cell_type": "code",
      "source": [
        "def gerar_e_buscar_consulta(consulta, base, model):\n",
        "  embedding_da_consulta = genai.embed_content(model=model,\n",
        "                             content=consulta,\n",
        "                             task_type='RETRIEVAL_QUERY')['embedding']\n",
        "  produtos_escalares = np.dot(np.stack(df[\"Embeddings\"]), embedding_da_consulta)\n",
        "  indice=np.argmax(produtos_escalares)\n",
        "  return df.iloc[indice]['Conteudo']"
      ],
      "metadata": {
        "id": "Gayicu_5xDZy"
      },
      "execution_count": 141,
      "outputs": []
    },
    {
      "cell_type": "code",
      "source": [
        "consulta = 'como eu faço para trocar marchas no carro do google?'\n",
        "trecho =gerar_e_buscar_consulta(consulta,df, model)\n",
        "print (trecho)"
      ],
      "metadata": {
        "colab": {
          "base_uri": "https://localhost:8080/",
          "height": 54
        },
        "id": "uEjuBl4TzAr7",
        "outputId": "f7cf44d7-eef9-4f2c-ef1e-c685a658e7b5"
      },
      "execution_count": 145,
      "outputs": [
        {
          "output_type": "stream",
          "name": "stdout",
          "text": [
            "Seu Googlecar possui uma transmissão automática. Para mudar de marcha, basta mover a alavanca de câmbio para a posição desejada. Park: Esta posição é usada quando você está estacionado. As rodas estão travadas e o carro não pode se mover. Reverse: Esta posição é usada para dar ré. Neutral: Esta posição é usada quando você está parado em um semáforo ou no trânsito. O carro não está engrenado e não se moverá a menos que você pressione o pedal do acelerador. Drive: Esta posição é usada para dirigir para frente. Low: Esta posição é usada para dirigir na neve ou em outras condições escorregadias.\n"
          ]
        }
      ]
    },
    {
      "cell_type": "code",
      "source": [
        "for m in genai.list_models():\n",
        "  if 'generateContent' in m.supported_generation_methods:\n",
        "    print(m.name)"
      ],
      "metadata": {
        "colab": {
          "base_uri": "https://localhost:8080/",
          "height": 139
        },
        "id": "tbghv8XyAhBw",
        "outputId": "396e317b-817a-42f9-841c-2c2cb3e05c15"
      },
      "execution_count": 149,
      "outputs": [
        {
          "output_type": "stream",
          "name": "stdout",
          "text": [
            "models/gemini-1.0-pro\n",
            "models/gemini-1.0-pro-001\n",
            "models/gemini-1.0-pro-latest\n",
            "models/gemini-1.0-pro-vision-latest\n",
            "models/gemini-1.5-pro-latest\n",
            "models/gemini-pro\n",
            "models/gemini-pro-vision\n"
          ]
        }
      ]
    },
    {
      "cell_type": "code",
      "source": [
        "#configuração de resposta do Gemini, funciona apenas no 1.0\n",
        "generation_config= {\n",
        "    \"candidate_count\":1,\n",
        "    \"temperature\":0.2}"
      ],
      "metadata": {
        "id": "Nprwn7lmFIVu"
      },
      "execution_count": 176,
      "outputs": []
    },
    {
      "cell_type": "code",
      "source": [
        "prompt = f'Reescreva esse texto de uma maneira diferente, texto unico, dissertativo, sem adicionar frases que não façam parte do texto: {trecho}'\n",
        "model_2 = genai.GenerativeModel('gemini-1.5-pro-latest',\n",
        "                               generation_config=generation_config)\n",
        "response = model_2.generate_content(prompt)\n",
        "print(response.text)"
      ],
      "metadata": {
        "colab": {
          "base_uri": "https://localhost:8080/",
          "height": 72
        },
        "id": "4fMtPETU_UZp",
        "outputId": "56fb98ed-543e-4ca1-e85e-f387e552f701"
      },
      "execution_count": 180,
      "outputs": [
        {
          "output_type": "stream",
          "name": "stdout",
          "text": [
            "O Googlecar, equipado com transmissão automática, simplifica a troca de marchas, bastando mover a alavanca para a posição desejada. As opções disponíveis atendem às diferentes necessidades de condução: \"Park\" (P) para estacionamento, travando as rodas e impedindo o movimento do veículo; \"Reverse\" (R) para dar ré; \"Neutral\" (N) para paradas em semáforos ou congestionamentos, desengatando o carro e permitindo movimento apenas com o acionamento do acelerador; \"Drive\" (D) para dirigir para frente; e \"Low\" (L) para situações de baixa aderência, como neve ou terrenos escorregadios. \n",
            "\n"
          ]
        }
      ]
    }
  ]
}